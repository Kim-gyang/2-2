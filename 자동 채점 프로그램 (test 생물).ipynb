{
 "cells": [
  {
   "cell_type": "code",
   "execution_count": 12,
   "metadata": {},
   "outputs": [
    {
     "name": "stdout",
     "output_type": "stream",
     "text": [
      "<_io.TextIOWrapper name='생명과학실험 2-1 중간고사.csv' mode='r' encoding='cp949'>\n",
      "['OH', '마지막 염기', '서열/주형/DNA/염기순서', '인간유전체/모든/DNA/염기서열/위치/유전자/지도화/종류/기능', '대장균 3', '일반배지/형질전환/흰색 콜로니', '젖당분해효소/발현/푸른색 콜로니', '인슐린/유전자/젖당분해효소/흰색/콜로니', 'CaCl2', '10', '12/13/14', '피펫 5/루프 5', '-DNA-LB-Amp', '-DNA-LB', '+DNA-LB-Amp-IPTG', '+DNA-LB-Amp', '현대생명공학기술/새롭게/조합된/유전물질/생물체', '고압멸균기오토클레이브', '대장균', 'pGFP', '앰피실린 저항성/녹색형광단백질 발현', 'LMO/멸균/폐기', '(A)/(C)', '(A)', 'two stop/one stop', 'B5', 'T1/B3/세포막/핵막/용해/DNA/계면활성제/proteinase K/히스톤 단백질/분해', 'DNA/well/가라앉/염색약/전개속도/전기영동/확인', 'DNA/직접 혼합/loading dye/2/4/대신', 'Pvu 1', 'CTG', '2A2H1E2A1', '그림생략', '목적유전자 서열/상보적/단일가닥/DNA/방사성 동위원소 형광표지', '이노시톨 삼인산(IP3)', 'IP3/소포체/Ca2+ 통로/결합/-/Ca2+ 통로/소포체/ Ca2+/세포질/확산됨/-/Ca2+ 농도 증가', '세포질/Ca2+ 농도/낮/작/농도 변화/민감/반응', 'G단백질/- cAMP', '성호르몬당질코르티코이드무기질코르티코이드티록신', '소수성/인지질/세포막/통과/세포질', '출발신호/-/생장인자 성장호르몬', '정지신호/-/밀도의존성 억제/부착의존성 억제', '모든 염색체/적도판/배열', '동원체/방추사부착점/방추사/연결', '사이클린/분해', '아폽토시스세포사멸', '뉴클레오솜', '코헤신', 'n=2', '2n=4', '2n=4', '5', '4', '2', '2', '4n=4', '4', '그림생략', '2^3 = 8 종류', '상동염색체/3쌍/독립/생식세포']\n"
     ]
    }
   ],
   "source": [
    "import csv\n",
    "\n",
    "f = open(\"생명과학실험 2-1 중간고사.csv\")\n",
    "g = csv.reader(f)\n",
    "answer = []\n",
    "for raw in g :\n",
    "    answer.append(raw[1])\n",
    "print(answer)\n",
    "f.close()"
   ]
  },
  {
   "cell_type": "code",
   "execution_count": 7,
   "metadata": {},
   "outputs": [
    {
     "name": "stdout",
     "output_type": "stream",
     "text": [
      "['2', '2', '2', '3', '2', '1', '1', '1', '1.5', '1.5', '1.5', '1.5', '1', '1', '1', '1', '1.5', '1.5', '1', '1', '1', '3', '2', '1.5', '2.5', '1.5', '4.5', '3', '4', '2', '2', '4', '3', '3', '1', '3', '1', '2', '1', '1', '1', '1', '1', '1', '1', '1.5', '1.5', '2', '0.5', '0.5', '1', '1', '1', '1', '1', '2', '1', '2', '2', '1']\n"
     ]
    }
   ],
   "source": [
    "import csv\n",
    "\n",
    "f = open( \"생명과학실험 2-1 중간고사.csv\" )\n",
    "g = csv.reader(f)\n",
    "\n",
    "score = []\n",
    "for raw in g :\n",
    "    score.append(raw[2])\n",
    "\n",
    "print(score)\n",
    "f.close()"
   ]
  },
  {
   "cell_type": "code",
   "execution_count": 8,
   "metadata": {},
   "outputs": [
    {
     "ename": "SyntaxError",
     "evalue": "EOL while scanning string literal (<ipython-input-8-fd8ae8a398da>, line 3)",
     "output_type": "error",
     "traceback": [
      "\u001b[1;36m  File \u001b[1;32m\"<ipython-input-8-fd8ae8a398da>\"\u001b[1;36m, line \u001b[1;32m3\u001b[0m\n\u001b[1;33m    f = open( \"생명과학실험 2-1 중간고사.csv )\u001b[0m\n\u001b[1;37m                                    ^\u001b[0m\n\u001b[1;31mSyntaxError\u001b[0m\u001b[1;31m:\u001b[0m EOL while scanning string literal\n"
     ]
    }
   ],
   "source": [
    "import csv\n",
    "\n",
    "f = open( \"생명과학실험 2-1 중간고사.csv )\n",
    "g = csv.reader(f)\n",
    "\n",
    "score = []\n",
    "for raw in g :\n",
    "    score.append(raw[2])\n",
    "\n",
    "print(score)\n",
    "f.close()"
   ]
  },
  {
   "cell_type": "code",
   "execution_count": 13,
   "metadata": {},
   "outputs": [
    {
     "name": "stdout",
     "output_type": "stream",
     "text": [
      "['OH', '마지막 염산', '서열을 알지 못하는 DNA 가닥의 염기 순서를 알 수 있다.', '인간유전체에 있는 모든 DNA 염기서열을 알아내고 유전자 위치를 지도화하여 인간이 가지는 모든 유전자 종류와 기능을 밝힐 수 있다. ', '대장균 4', '일반배지에서 형질전환 되지 않은 대장균은 흰색 콜로니 생성', '젖당분해효소가 발현되어 푸른색 콜로니 생성', '인슐린 유전자에 의해 젖당분해효소가 발현되지 않으므로 흰색 콜로니 생성', 'NaCl', '10', '12, 13, 14', '피펫 5개, 루프 2개', '-DNA/LB/Amp', '-DNA/LB', '+DNA/LB/Amp/IPTG', '+DNA/Amp', '현대생명공학기술을 이용하여 새롭게 조합된 생물체', '고압멸균기오토클레이브', '대장균', 'pGLO', '앰피실린 저항성, 녹색형광단백질 발현', '형질전환 실험에 의해 생긴 것을 멸균하여 폐기해야 한다.', '(A),?', '(A)', 'two stop 까지 누른 상태로 용액을 빨아들인다. 용액을 분주할 때는 one stop 까지만 눌러준다.', 'B5', 'T1, B3: 세포막과 핵막을 용해시켜 DNA가 노출될 수 있도록 하는 계면활성제, proteinase K: DNA에 붙어있는 히스톤 단백질을 분해한다.', 'DNA가 well 속에 잘 가라앉도록 도와준다. 또한 염색약의 전개속도를 관찰하여 전기영동 정도를 확인할 수 있다.', 'DNA에 직접 혼합해주며, loading dye가 포함되어 있다. 따라서 2에서 넣어주지 않고 4에서 loading dye를 대신해서 넣어준다.', 'Pvu 1', 'CTG', '2A2H1E2A1', '그림생략', '목적유전자 서열에 상보적인 단일가닥 DNA다. 방사성 동위원소나 형광표지가 되어야 한다.', '(가) - 이노시톨 삼인산(IP3)', 'IP3이 소포체의 Ca2+ 통로에 결합 - Ca2+ 통로가 열리면서 소포체안의 Ca2+이 세포질로 확산됨 - Ca2+ 농도 증가', '세포질에는 Ca2+ 농도가 낮기 때문에 작은 농도 변화에도 민감하게 반응할 수 있기 때문', '(나) - G단백질, (다) - cAMP', '성호르몬', '소수성이므로 인지질의 세포막을 통과하여 세포질로 들어갈 수 있다.', '출발신호 - 생장인자', '정지신호 - 밀도의존성 억제, 부착의존성 억제', '모든 염색체가 적도판에 배열되었는가?', '동원체의 방추사부착점에 방추사는 잘 연결되었는가?', '사이클린이 분해되기 때문', '아폽토시스(세포사멸)', '뉴클레오솜', '코헤신', 'n=2', '2n=4', '2n=4', '5', '4', '3', '2', '4n=4', '4', '그림생략', '2^3 = 8 종류', '상동염색체 3쌍이 각각 독립적으로 생식세포로 들어가기 때문이다.']\n"
     ]
    }
   ],
   "source": [
    "import csv\n",
    "\n",
    "f = open( \"2604 김소현.csv\")\n",
    "g = csv.reader(f)\n",
    "\n",
    "stanswer = []\n",
    "\n",
    "for raw in g :\n",
    "    stanswer.append(raw[1])\n",
    "\n",
    "print(stanswer)\n",
    "f.close()"
   ]
  },
  {
   "cell_type": "code",
   "execution_count": 14,
   "metadata": {},
   "outputs": [
    {
     "name": "stdout",
     "output_type": "stream",
     "text": [
      "[['OH'], ['마지막 염기'], ['서열', '주형', 'DNA', '염기순서'], ['인간유전체', '모든', 'DNA', '염기서열', '위치', '유전자', '지도화', '종류', '기능'], ['대장균 3'], ['일반배지', '형질전환', '흰색 콜로니'], ['젖당분해효소', '발현', '푸른색 콜로니'], ['인슐린', '유전자', '젖당분해효소', '흰색', '콜로니'], ['CaCl2'], ['10'], ['12', '13', '14'], ['피펫 5', '루프 5'], ['-DNA-LB-Amp'], ['-DNA-LB'], ['+DNA-LB-Amp-IPTG'], ['+DNA-LB-Amp'], ['현대생명공학기술', '새롭게', '조합된', '유전물질', '생물체'], ['고압멸균기오토클레이브'], ['대장균'], ['pGFP'], ['앰피실린 저항성', '녹색형광단백질 발현'], ['LMO', '멸균', '폐기'], ['(A)', '(C)'], ['(A)'], ['two stop', 'one stop'], ['B5'], ['T1', 'B3', '세포막', '핵막', '용해', 'DNA', '계면활성제', 'proteinase K', '히스톤 단백질', '분해'], ['DNA', 'well', '가라앉', '염색약', '전개속도', '전기영동', '확인'], ['DNA', '직접 혼합', 'loading dye', '2', '4', '대신'], ['Pvu 1'], ['CTG'], ['2A2H1E2A1'], ['그림생략'], ['목적유전자 서열', '상보적', '단일가닥', 'DNA', '방사성 동위원소 형광표지'], ['이노시톨 삼인산(IP3)'], ['IP3', '소포체', 'Ca2+ 통로', '결합', '-', 'Ca2+ 통로', '소포체', ' Ca2+', '세포질', '확산됨', '-', 'Ca2+ 농도 증가'], ['세포질', 'Ca2+ 농도', '낮', '작', '농도 변화', '민감', '반응'], ['G단백질', '- cAMP'], ['성호르몬당질코르티코이드무기질코르티코이드티록신'], ['소수성', '인지질', '세포막', '통과', '세포질'], ['출발신호', '-', '생장인자 성장호르몬'], ['정지신호', '-', '밀도의존성 억제', '부착의존성 억제'], ['모든 염색체', '적도판', '배열'], ['동원체', '방추사부착점', '방추사', '연결'], ['사이클린', '분해'], ['아폽토시스세포사멸'], ['뉴클레오솜'], ['코헤신'], ['n=2'], ['2n=4'], ['2n=4'], ['5'], ['4'], ['2'], ['2'], ['4n=4'], ['4'], ['그림생략'], ['2^3 = 8 종류'], ['상동염색체', '3쌍', '독립', '생식세포']]\n"
     ]
    }
   ],
   "source": [
    "new = []\n",
    "for i in range(0,len(answer)) :\n",
    "    n = answer[i].split('/')\n",
    "    new.append(n)\n",
    "print(new)"
   ]
  },
  {
   "cell_type": "code",
   "execution_count": 15,
   "metadata": {},
   "outputs": [
    {
     "name": "stdout",
     "output_type": "stream",
     "text": [
      "60\n"
     ]
    }
   ],
   "source": [
    "print(len(new))"
   ]
  },
  {
   "cell_type": "code",
   "execution_count": 16,
   "metadata": {},
   "outputs": [
    {
     "name": "stdout",
     "output_type": "stream",
     "text": [
      "일반배지에서 형질전환 되지 않은 대장균은 흰색 콜로니 생성\n",
      "['일반배지', '형질전환', '흰색 콜로니']\n",
      "1\n",
      "일반배지\n"
     ]
    }
   ],
   "source": [
    "print(stanswer[5])\n",
    "print(new[5])\n",
    "print(score[5])\n",
    "print(new[5][0])"
   ]
  },
  {
   "cell_type": "code",
   "execution_count": 17,
   "metadata": {},
   "outputs": [
    {
     "name": "stdout",
     "output_type": "stream",
     "text": [
      "60\n",
      "60\n"
     ]
    }
   ],
   "source": [
    "print(len(stanswer))\n",
    "print(len(new))"
   ]
  },
  {
   "cell_type": "code",
   "execution_count": 21,
   "metadata": {},
   "outputs": [
    {
     "name": "stdout",
     "output_type": "stream",
     "text": [
      "OH\n",
      "2\n",
      "OH\n",
      "o\n",
      "마지막 염산\n",
      "2\n",
      "마지막 염기\n",
      "x\n",
      "서열을 알지 못하는 DNA 가닥의 염기 순서를 알 수 있다.\n",
      "2\n",
      "서열\n",
      "o\n",
      "주형\n",
      "x\n",
      "인간유전체에 있는 모든 DNA 염기서열을 알아내고 유전자 위치를 지도화하여 인간이 가지는 모든 유전자 종류와 기능을 밝힐 수 있다. \n",
      "3\n",
      "인간유전체\n",
      "o\n",
      "모든\n",
      "o\n",
      "DNA\n",
      "o\n",
      "염기서열\n",
      "o\n",
      "위치\n",
      "o\n",
      "유전자\n",
      "o\n",
      "지도화\n",
      "o\n",
      "종류\n",
      "o\n",
      "기능\n",
      "o\n",
      "대장균 4\n",
      "2\n",
      "대장균 3\n",
      "x\n",
      "일반배지에서 형질전환 되지 않은 대장균은 흰색 콜로니 생성\n",
      "1\n",
      "일반배지\n",
      "o\n",
      "형질전환\n",
      "o\n",
      "흰색 콜로니\n",
      "o\n",
      "젖당분해효소가 발현되어 푸른색 콜로니 생성\n",
      "1\n",
      "젖당분해효소\n",
      "o\n",
      "발현\n",
      "o\n",
      "푸른색 콜로니\n",
      "o\n",
      "인슐린 유전자에 의해 젖당분해효소가 발현되지 않으므로 흰색 콜로니 생성\n",
      "1\n",
      "인슐린\n",
      "o\n",
      "유전자\n",
      "o\n",
      "젖당분해효소\n",
      "o\n",
      "흰색\n",
      "o\n",
      "콜로니\n",
      "o\n"
     ]
    },
    {
     "ename": "ValueError",
     "evalue": "invalid literal for int() with base 10: '1.5'",
     "output_type": "error",
     "traceback": [
      "\u001b[1;31m---------------------------------------------------------------------------\u001b[0m",
      "\u001b[1;31mValueError\u001b[0m                                Traceback (most recent call last)",
      "\u001b[1;32m<ipython-input-21-fcfc97ac7290>\u001b[0m in \u001b[0;36m<module>\u001b[1;34m\u001b[0m\n\u001b[0;32m      2\u001b[0m \u001b[1;32mfor\u001b[0m \u001b[0mj\u001b[0m \u001b[1;32min\u001b[0m \u001b[0mrange\u001b[0m\u001b[1;33m(\u001b[0m\u001b[1;36m0\u001b[0m\u001b[1;33m,\u001b[0m \u001b[0mlen\u001b[0m\u001b[1;33m(\u001b[0m\u001b[0mstanswer\u001b[0m\u001b[1;33m)\u001b[0m\u001b[1;33m)\u001b[0m \u001b[1;33m:\u001b[0m\u001b[1;33m\u001b[0m\u001b[1;33m\u001b[0m\u001b[0m\n\u001b[0;32m      3\u001b[0m     \u001b[0mtxt\u001b[0m \u001b[1;33m=\u001b[0m \u001b[0mstanswer\u001b[0m\u001b[1;33m[\u001b[0m\u001b[0mj\u001b[0m\u001b[1;33m]\u001b[0m\u001b[1;33m\u001b[0m\u001b[1;33m\u001b[0m\u001b[0m\n\u001b[1;32m----> 4\u001b[1;33m     \u001b[0msc\u001b[0m \u001b[1;33m=\u001b[0m \u001b[0mint\u001b[0m\u001b[1;33m(\u001b[0m\u001b[0mscore\u001b[0m\u001b[1;33m[\u001b[0m\u001b[0mj\u001b[0m\u001b[1;33m]\u001b[0m\u001b[1;33m)\u001b[0m\u001b[1;33m\u001b[0m\u001b[1;33m\u001b[0m\u001b[0m\n\u001b[0m\u001b[0;32m      5\u001b[0m     \u001b[0mcp\u001b[0m \u001b[1;33m=\u001b[0m \u001b[1;32mTrue\u001b[0m\u001b[1;33m\u001b[0m\u001b[1;33m\u001b[0m\u001b[0m\n\u001b[0;32m      6\u001b[0m     \u001b[0mprint\u001b[0m\u001b[1;33m(\u001b[0m\u001b[0mtxt\u001b[0m\u001b[1;33m)\u001b[0m\u001b[1;33m\u001b[0m\u001b[1;33m\u001b[0m\u001b[0m\n",
      "\u001b[1;31mValueError\u001b[0m: invalid literal for int() with base 10: '1.5'"
     ]
    }
   ],
   "source": [
    "점수 = 0\n",
    "for j in range(0, len(stanswer)) :\n",
    "    txt = stanswer[j]\n",
    "    sc = int(score[j])\n",
    "    cp = True\n",
    "    print(txt)\n",
    "    print(sc)\n",
    "    for i in range(len(new[j])) :\n",
    "        ans = new[j][i]\n",
    "        print(ans)\n",
    "        if ans in txt :\n",
    "            cp = True\n",
    "            print('o')\n",
    "        if ans not in txt :\n",
    "            cp = False\n",
    "            print('x')\n",
    "            break\n",
    "    if cp :\n",
    "        점수 += sc\n",
    "print('총점은',점수,'점 입니다')"
   ]
  },
  {
   "cell_type": "code",
   "execution_count": null,
   "metadata": {},
   "outputs": [],
   "source": []
  },
  {
   "cell_type": "code",
   "execution_count": null,
   "metadata": {},
   "outputs": [],
   "source": []
  }
 ],
 "metadata": {
  "kernelspec": {
   "display_name": "Python 3",
   "language": "python",
   "name": "python3"
  },
  "language_info": {
   "codemirror_mode": {
    "name": "ipython",
    "version": 3
   },
   "file_extension": ".py",
   "mimetype": "text/x-python",
   "name": "python",
   "nbconvert_exporter": "python",
   "pygments_lexer": "ipython3",
   "version": "3.7.1"
  }
 },
 "nbformat": 4,
 "nbformat_minor": 2
}
