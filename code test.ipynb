{
 "cells": [
  {
   "cell_type": "code",
   "execution_count": 95,
   "metadata": {},
   "outputs": [
    {
     "name": "stdout",
     "output_type": "stream",
     "text": [
      "['OH', '마지막 염기', '서열/주형/DNA/염기순서', '인간유전체/모든/DNA/염기서열/위치/유전자/지도화/종류/기능', '대장균 3', '일반배지/형질전환/흰색 콜로니', '젖당분해효소/발현/푸른색 콜로니', '인슐린/유전자/젖당분해효소/흰색/콜로니']\n"
     ]
    }
   ],
   "source": [
    "import csv\n",
    "\n",
    "f = open(\"code test 선생님 2.csv\" )\n",
    "g = csv.reader(f)\n",
    "answer = []\n",
    "for raw in g :\n",
    "    answer.append(raw[1])\n",
    "\n",
    "print(answer)\n",
    "f.close()"
   ]
  },
  {
   "cell_type": "code",
   "execution_count": 96,
   "metadata": {},
   "outputs": [
    {
     "name": "stdout",
     "output_type": "stream",
     "text": [
      "['2', '2', '3', '2', '2', '1', '1', '1']\n"
     ]
    }
   ],
   "source": [
    "import csv\n",
    "\n",
    "f = open( \"code test 선생님 2.csv\" )\n",
    "g = csv.reader(f)\n",
    "\n",
    "score = []\n",
    "for raw in g :\n",
    "    score.append(raw[2])\n",
    "\n",
    "print(score)\n",
    "f.close()"
   ]
  },
  {
   "cell_type": "code",
   "execution_count": 97,
   "metadata": {},
   "outputs": [
    {
     "name": "stdout",
     "output_type": "stream",
     "text": [
      "[['OH'], ['마지막 염기'], ['서열', '주형', 'DNA', '염기순서'], ['인간유전체', '모든', 'DNA', '염기서열', '위치', '유전자', '지도화', '종류', '기능'], ['대장균 3'], ['일반배지', '형질전환', '흰색 콜로니'], ['젖당분해효소', '발현', '푸른색 콜로니'], ['인슐린', '유전자', '젖당분해효소', '흰색', '콜로니']]\n"
     ]
    }
   ],
   "source": [
    "new = []\n",
    "for i in range(0,len(answer)) :\n",
    "    n = answer[i].split('/')\n",
    "    new.append(n)\n",
    "print(new)"
   ]
  },
  {
   "cell_type": "code",
   "execution_count": 115,
   "metadata": {},
   "outputs": [
    {
     "name": "stdout",
     "output_type": "stream",
     "text": [
      "['O', '첫번째 염기', '서열을 알지 못하는 주형 DNA 가닥의 염기순서를 알 수 있다.', '인간유전체에 있는 모든 DNA 염기서열을 알아내고 유전자 위치를 지도화하여 인간이 가지는 모든 유전자의 종류와 기능을 밝힐 수 있다.', '대장균 4', '일반배지에서 형질전환 되지 않은 대장균은 흰색 콜로니 생성', '젖당분해효소가 발현되어 푸른색 콜로니 생성', '인슐린 유전자에 의해 젖당분해효소가 발현되지 않으므로 푸른색 콜로니 생성']\n"
     ]
    }
   ],
   "source": [
    "import csv\n",
    "\n",
    "f = open( \"code test용 학생용 답안지.csv\")\n",
    "g = csv.reader(f)\n",
    "\n",
    "stanswer = []\n",
    "\n",
    "for raw in g :\n",
    "    stanswer.append(raw[1])\n",
    "\n",
    "print(stanswer)\n",
    "f.close()"
   ]
  },
  {
   "cell_type": "code",
   "execution_count": 116,
   "metadata": {},
   "outputs": [
    {
     "name": "stdout",
     "output_type": "stream",
     "text": [
      "일반배지에서 형질전환 되지 않은 대장균은 흰색 콜로니 생성\n",
      "['일반배지', '형질전환', '흰색 콜로니']\n",
      "1\n",
      "일반배지\n"
     ]
    }
   ],
   "source": [
    "print(stanswer[5])\n",
    "print(new[5])\n",
    "print(score[5])\n",
    "print(new[5][0])"
   ]
  },
  {
   "cell_type": "code",
   "execution_count": 117,
   "metadata": {},
   "outputs": [
    {
     "name": "stdout",
     "output_type": "stream",
     "text": [
      "0\n"
     ]
    }
   ],
   "source": [
    "txt = stanswer[5]\n",
    "ans = str(new[5])\n",
    "sc = int(score[5])\n",
    "cnt = 0\n",
    "cp = True\n",
    "for i in range(0,len(ans)) :\n",
    "        if ans[i] in txt :\n",
    "            cp = True\n",
    "        if ans[i] not in txt :\n",
    "            cp = False\n",
    "            break\n",
    "if cp :\n",
    "    cnt += sc\n",
    "print(cnt)"
   ]
  },
  {
   "cell_type": "code",
   "execution_count": 118,
   "metadata": {},
   "outputs": [
    {
     "name": "stdout",
     "output_type": "stream",
     "text": [
      "0\n"
     ]
    }
   ],
   "source": [
    "txt = stanswer[0]\n",
    "ans = new[0][0]\n",
    "sc = int(score[0])\n",
    "cnt = 0\n",
    "cp = True\n",
    "for i in range(len(ans)) :\n",
    "        if ans[i] in txt :\n",
    "            cp = True\n",
    "        if ans[i] not in txt :\n",
    "            cp = False\n",
    "            break\n",
    "if cp :\n",
    "    cnt += sc\n",
    "print(cnt)"
   ]
  },
  {
   "cell_type": "code",
   "execution_count": 119,
   "metadata": {},
   "outputs": [
    {
     "name": "stdout",
     "output_type": "stream",
     "text": [
      "첫번째 염기\n",
      "마지막 염기\n",
      "2\n"
     ]
    }
   ],
   "source": [
    "print(stanswer[1])\n",
    "print(new[1][0])\n",
    "print(score[1])"
   ]
  },
  {
   "cell_type": "code",
   "execution_count": 120,
   "metadata": {},
   "outputs": [
    {
     "name": "stdout",
     "output_type": "stream",
     "text": [
      "8\n",
      "8\n"
     ]
    }
   ],
   "source": [
    "print(len(stanswer))\n",
    "print(len(new))"
   ]
  },
  {
   "cell_type": "code",
   "execution_count": 121,
   "metadata": {
    "scrolled": false
   },
   "outputs": [
    {
     "name": "stdout",
     "output_type": "stream",
     "text": [
      "O\n",
      "2\n",
      "OH\n",
      "x\n",
      "첫번째 염기\n",
      "2\n",
      "마지막 염기\n",
      "x\n",
      "서열을 알지 못하는 주형 DNA 가닥의 염기순서를 알 수 있다.\n",
      "3\n",
      "서열\n",
      "o\n",
      "주형\n",
      "o\n",
      "DNA\n",
      "o\n",
      "염기순서\n",
      "o\n",
      "인간유전체에 있는 모든 DNA 염기서열을 알아내고 유전자 위치를 지도화하여 인간이 가지는 모든 유전자의 종류와 기능을 밝힐 수 있다.\n",
      "2\n",
      "인간유전체\n",
      "o\n",
      "모든\n",
      "o\n",
      "DNA\n",
      "o\n",
      "염기서열\n",
      "o\n",
      "위치\n",
      "o\n",
      "유전자\n",
      "o\n",
      "지도화\n",
      "o\n",
      "종류\n",
      "o\n",
      "기능\n",
      "o\n",
      "대장균 4\n",
      "2\n",
      "대장균 3\n",
      "x\n",
      "일반배지에서 형질전환 되지 않은 대장균은 흰색 콜로니 생성\n",
      "1\n",
      "일반배지\n",
      "o\n",
      "형질전환\n",
      "o\n",
      "흰색 콜로니\n",
      "o\n",
      "젖당분해효소가 발현되어 푸른색 콜로니 생성\n",
      "1\n",
      "젖당분해효소\n",
      "o\n",
      "발현\n",
      "o\n",
      "푸른색 콜로니\n",
      "o\n",
      "인슐린 유전자에 의해 젖당분해효소가 발현되지 않으므로 푸른색 콜로니 생성\n",
      "1\n",
      "인슐린\n",
      "o\n",
      "유전자\n",
      "o\n",
      "젖당분해효소\n",
      "o\n",
      "흰색\n",
      "x\n",
      "총점은 7 점 입니다\n"
     ]
    }
   ],
   "source": [
    "점수 = 0\n",
    "for j in range(0, len(stanswer)) :\n",
    "    txt = stanswer[j]\n",
    "    sc = int(score[j])\n",
    "    cp = True\n",
    "    print(txt)\n",
    "    print(sc)\n",
    "    for i in range(len(new[j])) :\n",
    "        ans = new[j][i]\n",
    "        print(ans)\n",
    "        if ans in txt :\n",
    "            cp = True\n",
    "            print('o')\n",
    "        if ans not in txt :\n",
    "            cp = False\n",
    "            print('x')\n",
    "            break\n",
    "    if cp :\n",
    "        점수 += sc\n",
    "print('총점은',점수,'점 입니다')"
   ]
  },
  {
   "cell_type": "code",
   "execution_count": 122,
   "metadata": {},
   "outputs": [
    {
     "name": "stdout",
     "output_type": "stream",
     "text": [
      "총점은 7 점 입니다\n"
     ]
    }
   ],
   "source": [
    "점수 = 0\n",
    "for j in range(0, len(stanswer)) :\n",
    "    txt = stanswer[j]\n",
    "    sc = int(score[j])\n",
    "    cp = True\n",
    "    for i in range(len(new[j])) :\n",
    "        ans = new[j][i]\n",
    "        if ans in txt :\n",
    "            cp = True\n",
    "        if ans not in txt :\n",
    "            cp = False\n",
    "            break\n",
    "    if cp :\n",
    "        점수 += sc\n",
    "print('총점은',점수,'점 입니다')"
   ]
  },
  {
   "cell_type": "code",
   "execution_count": null,
   "metadata": {},
   "outputs": [],
   "source": []
  }
 ],
 "metadata": {
  "kernelspec": {
   "display_name": "Python 3",
   "language": "python",
   "name": "python3"
  },
  "language_info": {
   "codemirror_mode": {
    "name": "ipython",
    "version": 3
   },
   "file_extension": ".py",
   "mimetype": "text/x-python",
   "name": "python",
   "nbconvert_exporter": "python",
   "pygments_lexer": "ipython3",
   "version": "3.7.1"
  }
 },
 "nbformat": 4,
 "nbformat_minor": 2
}
